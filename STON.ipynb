{
 "cells": [
  {
   "cell_type": "code",
   "execution_count": 142,
   "id": "d272326b",
   "metadata": {},
   "outputs": [],
   "source": [
    "import astropy.units as u, astropy.constants as c, numpy as np\n",
    "from astropy.cosmology import FlatLambdaCDM\n",
    "from astropy.constants import codata2014 as const"
   ]
  },
  {
   "cell_type": "code",
   "execution_count": 143,
   "id": "e38bbd7b",
   "metadata": {},
   "outputs": [],
   "source": [
    "# for h=0.7\n",
    "h = 0.7\n",
    "Mv = -19.25*u.ABmag\n",
    "Mvsky = 21.7*u.ABmag"
   ]
  },
  {
   "cell_type": "code",
   "execution_count": 144,
   "id": "8f721f4b",
   "metadata": {},
   "outputs": [],
   "source": [
    "cosmo = FlatLambdaCDM(H0=70, Om0=0.3, Tcmb0=2.725)"
   ]
  },
  {
   "cell_type": "code",
   "execution_count": 147,
   "id": "48d40c35",
   "metadata": {},
   "outputs": [],
   "source": [
    "zs=[0.1,0.15,0.2]"
   ]
  },
  {
   "cell_type": "code",
   "execution_count": 148,
   "id": "4f8fa726",
   "metadata": {},
   "outputs": [],
   "source": [
    "ms = [cosmo.distmod(z)+ Mb for z in zs]"
   ]
  },
  {
   "cell_type": "code",
   "execution_count": 149,
   "id": "5cf32d51",
   "metadata": {},
   "outputs": [
    {
     "data": {
      "text/plain": [
       "[<Magnitude 19.06518552 mag(AB)>,\n",
       " <Magnitude 20.01594383 mag(AB)>,\n",
       " <Magnitude 20.70624183 mag(AB)>]"
      ]
     },
     "execution_count": 149,
     "metadata": {},
     "output_type": "execute_result"
    }
   ],
   "source": [
    "ms"
   ]
  },
  {
   "cell_type": "code",
   "execution_count": 150,
   "id": "40f3e309",
   "metadata": {
    "scrolled": true
   },
   "outputs": [],
   "source": [
    "flams = [(m.to(u.erg/u.s/u.cm**2/u.AA,u.spectral_density(5500 * u.AA))/const.h/const.c*5500*u.AA).decompose()  for m in ms]\n"
   ]
  },
  {
   "cell_type": "code",
   "execution_count": 153,
   "id": "04640c5c",
   "metadata": {},
   "outputs": [],
   "source": [
    "skyflam = (Mvsky.to(u.erg/u.s/u.cm**2/u.AA,u.spectral_density(5500 * u.AA))/const.h/const.c*5500*u.AA).decompose()*spaxel"
   ]
  },
  {
   "cell_type": "code",
   "execution_count": 188,
   "id": "baf39d3f",
   "metadata": {},
   "outputs": [],
   "source": [
    "mirror=2.5\n",
    "etime = 60 * u.s\n",
    "throughput = 0.2\n",
    "area = np.pi*(mirror/2)**2 * u.m**2\n",
    "spaxel = np.pi * (0.5/2)**2 # arcsec\n",
    "R=1000\n",
    "Dlam = 5500/R * u.AA\n",
    "RN = 1"
   ]
  },
  {
   "cell_type": "code",
   "execution_count": 189,
   "id": "98e2a210",
   "metadata": {},
   "outputs": [],
   "source": [
    "signals = [(f*area*throughput*etime*Dlam).decompose() for f in flams]"
   ]
  },
  {
   "cell_type": "code",
   "execution_count": 190,
   "id": "5a731678",
   "metadata": {},
   "outputs": [
    {
     "data": {
      "text/plain": [
       "[<Quantity 76.35208746>, <Quantity 31.80662518>, <Quantity 16.8421834>]"
      ]
     },
     "execution_count": 190,
     "metadata": {},
     "output_type": "execute_result"
    }
   ],
   "source": [
    "signals"
   ]
  },
  {
   "cell_type": "code",
   "execution_count": 191,
   "id": "2f72c984",
   "metadata": {},
   "outputs": [],
   "source": [
    "sky = (skyflam*area*throughput*etime*Dlam).decompose()"
   ]
  },
  {
   "cell_type": "code",
   "execution_count": 192,
   "id": "0c503a21",
   "metadata": {},
   "outputs": [
    {
     "data": {
      "text/latex": [
       "$1.3241129 \\; \\mathrm{}$"
      ],
      "text/plain": [
       "<Quantity 1.32411289>"
      ]
     },
     "execution_count": 192,
     "metadata": {},
     "output_type": "execute_result"
    }
   ],
   "source": [
    "sky"
   ]
  },
  {
   "cell_type": "code",
   "execution_count": 193,
   "id": "9e136e2f",
   "metadata": {},
   "outputs": [],
   "source": [
    "stons = [s/np.sqrt(s+sky+RN**2) for s in signals]"
   ]
  },
  {
   "cell_type": "code",
   "execution_count": 194,
   "id": "78f19af2",
   "metadata": {},
   "outputs": [
    {
     "data": {
      "text/plain": [
       "[<Quantity 8.6079399>, <Quantity 5.44433388>, <Quantity 3.84706296>]"
      ]
     },
     "execution_count": 194,
     "metadata": {},
     "output_type": "execute_result"
    }
   ],
   "source": [
    "stons"
   ]
  },
  {
   "cell_type": "code",
   "execution_count": null,
   "id": "41776699",
   "metadata": {},
   "outputs": [],
   "source": []
  }
 ],
 "metadata": {
  "kernelspec": {
   "display_name": "Python 3",
   "language": "python",
   "name": "python3"
  },
  "language_info": {
   "codemirror_mode": {
    "name": "ipython",
    "version": 3
   },
   "file_extension": ".py",
   "mimetype": "text/x-python",
   "name": "python",
   "nbconvert_exporter": "python",
   "pygments_lexer": "ipython3",
   "version": "3.8.8"
  }
 },
 "nbformat": 4,
 "nbformat_minor": 5
}
